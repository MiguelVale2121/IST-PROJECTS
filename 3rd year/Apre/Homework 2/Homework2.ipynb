{
  "nbformat": 4,
  "nbformat_minor": 0,
  "metadata": {
    "colab": {
      "provenance": []
    },
    "kernelspec": {
      "name": "python3",
      "display_name": "Python 3"
    },
    "language_info": {
      "name": "python"
    }
  },
  "cells": [
    {
      "cell_type": "code",
      "execution_count": null,
      "metadata": {
        "id": "R9bE-za4ggq8",
        "colab": {
          "base_uri": "https://localhost:8080/",
          "height": 302
        },
        "outputId": "8e775095-569c-4db0-af07-11a9b6a131ca"
      },
      "outputs": [
        {
          "output_type": "stream",
          "name": "stdout",
          "text": [
            "p1>p2? pval= 0.9104476998751558\n"
          ]
        },
        {
          "output_type": "execute_result",
          "data": {
            "text/plain": [
              "<matplotlib.axes._subplots.AxesSubplot at 0x7fc5c16b4850>"
            ]
          },
          "metadata": {},
          "execution_count": 3
        },
        {
          "output_type": "display_data",
          "data": {
            "text/plain": [
              "<Figure size 432x288 with 2 Axes>"
            ],
            "image/png": "[encoded data removed]"
          },
          "metadata": {
            "needs_background": "light"
          }
        }
      ],
      "source": [
        "import pandas as pd\n",
        "import matplotlib.pyplot as plt\n",
        "import numpy as np\n",
        "from scipy.io.arff import loadarff\n",
        "from sklearn.neighbors import KNeighborsClassifier\n",
        "from sklearn.naive_bayes import GaussianNB\n",
        "from sklearn.model_selection import cross_val_score, StratifiedKFold\n",
        "from sklearn.metrics import classification_report, confusion_matrix\n",
        "from scipy import stats\n",
        "import seaborn as sns\n",
        "\n",
        "data = loadarff('/content/pd_speech.arff')\n",
        "df = pd.DataFrame(data[0])\n",
        "df['class'] = df['class'].str.decode('utf-8')\n",
        "\n",
        "X = df.drop('class', axis=1)\n",
        "y = df['class']\n",
        "\n",
        "folds = StratifiedKFold(n_splits=10,shuffle=True,random_state=0)\n",
        "\n",
        "classifiers = [\n",
        "    (\"kNN\", KNeighborsClassifier()),\n",
        "    (\"Naive Bayes\", GaussianNB()),\n",
        "]\n",
        "\n",
        "NB = pd.DataFrame()\n",
        "KNN = pd.DataFrame()\n",
        "yknn = pd.DataFrame()\n",
        "ynb = pd.DataFrame()\n",
        "scores = []\n",
        "# iterate per fold\n",
        "for train_k, test_k in folds.split(X, y):\n",
        "    X_train, X_test = X.iloc[train_k], X.iloc[test_k]\n",
        "    y_train, y_test = y.iloc[train_k], y.iloc[test_k]\n",
        "\n",
        "    for name, classifier in classifiers:\n",
        "      classifier.fit(X_train, y_train)\n",
        "      y_pred = classifier.predict(X_test)\n",
        "      if name == \"kNN\":\n",
        "        KNN = pd.concat([KNN,pd.DataFrame(y_pred)])\n",
        "        yknn = pd.concat([yknn,pd.DataFrame(y_test)])\n",
        "      else:\n",
        "        NB = pd.concat([NB,pd.DataFrame(y_pred)])\n",
        "        ynb = pd.concat([ynb,pd.DataFrame(y_test)])\n",
        "      scores.append(cross_val_score(classifier, X, y, cv=folds))\n",
        "cmKNN=confusion_matrix(yknn, KNN)\n",
        "cmNB=confusion_matrix(ynb, NB)\n",
        "confusionKNN = pd.DataFrame(cmKNN, index=['Parkinson', 'Healthy'], columns=['Predicted Parkinson', 'Predicted Healthy'])\n",
        "confusionNB = pd.DataFrame(cmNB, index=['Parkinson', 'Healthy'], columns=['Predicted Parkinson', 'Predicted Healthy'])\n",
        "\n",
        "res = stats.ttest_rel(scores[0], scores[1], alternative='greater')\n",
        "print(\"p1>p2? pval=\",res.pvalue)\n",
        "sns.heatmap(confusionKNN,annot=True,fmt='g')\n"
      ]
    },
    {
      "cell_type": "code",
      "source": [
        "sns.heatmap(confusionNB,annot=True,fmt='g')"
      ],
      "metadata": {
        "colab": {
          "base_uri": "https://localhost:8080/",
          "height": 283
        },
        "id": "0UZcn09PetAW",
        "outputId": "832b04f3-0de7-43ef-d7bf-f4e4ccb3376f"
      },
      "execution_count": null,
      "outputs": [
        {
          "output_type": "execute_result",
          "data": {
            "text/plain": [
              "<matplotlib.axes._subplots.AxesSubplot at 0x7fc5be485a90>"
            ]
          },
          "metadata": {},
          "execution_count": 4
        },
        {
          "output_type": "display_data",
          "data": {
            "text/plain": [
              "<Figure size 432x288 with 2 Axes>"
            ],
            "image/png": "[encoded data removed]"
          },
          "metadata": {
            "needs_background": "light"
          }
        }
      ]
    }
  ]
}