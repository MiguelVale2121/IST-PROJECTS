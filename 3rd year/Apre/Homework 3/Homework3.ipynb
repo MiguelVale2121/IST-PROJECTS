{
  "nbformat": 4,
  "nbformat_minor": 0,
  "metadata": {
    "colab": {
      "provenance": []
    },
    "kernelspec": {
      "name": "python3",
      "display_name": "Python 3"
    },
    "language_info": {
      "name": "python"
    }
  },
  "cells": [
    {
      "cell_type": "code",
      "execution_count": null,
      "metadata": {
        "colab": {
          "base_uri": "https://localhost:8080/",
          "height": 423
        },
        "id": "P4CPrbGu4kC7",
        "outputId": "4285e4fc-4ea7-4e33-f1f5-382cf0e3d534"
      },
      "outputs": [
        {
          "output_type": "stream",
          "name": "stdout",
          "text": [
            "LR : 0.162829976437694\n",
            "MPL1 : 0.06804140737968428\n",
            "MPL2 : 0.0978071820387748\n",
            "N_iter MPL1: 452\n",
            "N_iter MPL2: 77\n"
          ]
        },
        {
          "output_type": "display_data",
          "data": {
            "text/plain": [
              "<Figure size 720x360 with 2 Axes>"
            ],
            "image/png": "[encoded data removed]"
          },
          "metadata": {
            "needs_background": "light"
          }
        }
      ],
      "source": [
        "import numpy as np\n",
        "import pandas as pd\n",
        "from scipy.io.arff import loadarff\n",
        "from sklearn.model_selection import train_test_split\n",
        "from sklearn.linear_model import Ridge\n",
        "from sklearn.neural_network import MLPRegressor\n",
        "from sklearn.metrics import mean_absolute_error\n",
        "import matplotlib.pyplot as plt\n",
        "import seaborn as sns\n",
        "\n",
        "data = loadarff('/content/kin8nm.arff')\n",
        "df = pd.DataFrame(data[0])\n",
        "\n",
        "X = df.drop('y', axis=1)\n",
        "y = df['y']\n",
        "\n",
        "regressors = [\n",
        "    (\"LR\", Ridge(alpha=0.1)),\n",
        "    (\"MPL1\", MLPRegressor(hidden_layer_sizes=(10,10),activation='tanh',max_iter=500,random_state=0,early_stopping=True)),\n",
        "    (\"MPL2\", MLPRegressor(hidden_layer_sizes=(10,10),activation='tanh',max_iter=500,random_state=0,early_stopping=False)),\n",
        "]\n",
        "\n",
        "iter=[]\n",
        "residues = []\n",
        "\n",
        "for name,regressor in regressors:\n",
        "  X_train, X_test, y_train, y_test = train_test_split(X, y, test_size=0.3, train_size=0.7,random_state=0)\n",
        "  if name==\"LR\":\n",
        "    regressor.fit(X_train.values,y_train.values)\n",
        "    y_pred = regressor.predict(X_test.values)\n",
        "  else:\n",
        "    regressor.fit(X_train.values,y_train.values)\n",
        "    y_pred = regressor.predict(X_test.values)\n",
        "    iter.append(regressor.n_iter_)\n",
        "  residues.append(abs(y_test.values-y_pred))\n",
        "  print(name,\":\",mean_absolute_error(y_test,y_pred))\n",
        "\n",
        "print(\"N_iter MPL1:\",iter[0])\n",
        "print(\"N_iter MPL2:\",iter[1])\n",
        "\n",
        "#Boxplot\n",
        "plt.figure(figsize=(10,5))\n",
        "plt.subplot(1,2,1)\n",
        "plt.boxplot(residues)\n",
        "plt.xticks([1,2,3],[\"LR\",\"MPL1\",\"MPL2\"])\n",
        "plt.title(\"Boxplot\")\n",
        "#Histogram\n",
        "plt.subplot(1,2,2)\n",
        "plt.hist(residues,bins=20)\n",
        "plt.legend([\"LR\",\"MPL1\",\"MPL2\"])\n",
        "plt.title(\"Histogram\")\n",
        "plt.show()\n",
        "\n",
        "\n"
      ]
    },
    {
      "cell_type": "code",
      "source": [],
      "metadata": {
        "id": "rtoERvffXE7c"
      },
      "execution_count": null,
      "outputs": []
    }
  ]
}