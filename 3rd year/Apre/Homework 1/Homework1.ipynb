{
  "nbformat": 4,
  "nbformat_minor": 0,
  "metadata": {
    "colab": {
      "provenance": []
    },
    "kernelspec": {
      "name": "python3",
      "display_name": "Python 3"
    },
    "language_info": {
      "name": "python"
    }
  },
  "cells": [
    {
      "cell_type": "code",
      "execution_count": null,
      "metadata": {
        "colab": {
          "base_uri": "https://localhost:8080/",
          "height": 502
        },
        "id": "rio-1K7pRhXX",
        "outputId": "77be6fb7-771e-4c6f-84d7-c9fa13e5186c"
      },
      "outputs": [
        {
          "output_type": "display_data",
          "data": {
            "text/plain": [
              "<Figure size 864x576 with 1 Axes>"
            ],
            "image/png": "[encoded data removed]"
          },
          "metadata": {
            "needs_background": "light"
          }
        }
      ],
      "source": [
        "import pandas as pd\n",
        "import matplotlib.pyplot as plt\n",
        "import numpy as np\n",
        "from scipy.io.arff import loadarff\n",
        "from sklearn.model_selection import train_test_split\n",
        "from sklearn.feature_selection import mutual_info_classif\n",
        "from sklearn.feature_selection import SelectKBest\n",
        "from sklearn.tree import DecisionTreeClassifier\n",
        "from sklearn import metrics\n",
        "\n",
        "data = loadarff('/content/pd_speech.arff')\n",
        "df = pd.DataFrame(data[0])\n",
        "df['class'] = df['class'].str.decode('utf-8')\n",
        "\n",
        "X = df.drop('class', axis=1)\n",
        "y = df['class']\n",
        "\n",
        "features = [5,10,40,100,250,700]\n",
        "accuracy_train = []\n",
        "accuracy_test = []\n",
        "i=0\n",
        "while i <  len(features):\n",
        "  X_train, X_test, y_train, y_test = train_test_split(X, y, test_size=0.3, train_size=0.7,random_state=1,stratify=y)\n",
        "  feature_selection = SelectKBest(mutual_info_classif,k=features[i])\n",
        "  feature_selection.fit_transform(X_train,y_train)\n",
        "\n",
        "  best_features=feature_selection.get_support(indices=True)\n",
        "\n",
        "  X_train=X_train.iloc[:,best_features]\n",
        "  X_test=X_test.iloc[:,best_features]\n",
        "\n",
        "  clf = DecisionTreeClassifier()\n",
        "  clf.fit(X_train,y_train)\n",
        "\n",
        "  predictions_test = clf.predict(X_test)\n",
        "  predictions_train = clf.predict(X_train)\n",
        "\n",
        "  accuracy_test.append(metrics.accuracy_score(y_test, predictions_test))\n",
        "  accuracy_train.append(metrics.accuracy_score(y_train, predictions_train))\n",
        "\n",
        "  i=i+1\n",
        "\n",
        "#bar plot\n",
        "barWidth = 0.25\n",
        "fig = plt.subplots(figsize =(12, 8))\n",
        "\n",
        "br1=np.arange(len(accuracy_test))\n",
        "br2=[x + barWidth for x in br1]\n",
        "\n",
        "plt.bar(br1, accuracy_test, color ='r', width = barWidth,\n",
        "        edgecolor ='grey', label ='accuracy_test')\n",
        "plt.bar(br2, accuracy_train, color ='g', width = barWidth,\n",
        "        edgecolor ='grey', label ='accuracy_train')\n",
        "\n",
        "plt.xlabel('Features', fontweight ='bold', fontsize = 15)\n",
        "plt.ylabel('Accuracy', fontweight ='bold', fontsize = 15)\n",
        "plt.xticks([r + barWidth for r in range(len(accuracy_test))],\n",
        "        ['5','10','40','100','250','700'])\n",
        "\n",
        "plt.legend()\n",
        "plt.show()"
      ]
    },
    {
      "cell_type": "code",
      "source": [
        "from google.colab import drive\n",
        "drive.mount('/content/drive')"
      ],
      "metadata": {
        "id": "A9o_qrHAMfIQ"
      },
      "execution_count": null,
      "outputs": []
    }
  ]
}